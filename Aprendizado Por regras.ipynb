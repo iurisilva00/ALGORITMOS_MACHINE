##Aprendizagem Indução de regras, Algoritmo ONeR e PRISM

!pip install Orange3

import Orange

#Teoria indução por regras, arvores de decisão x regras
#Regras (Cn2) com orange, Majority learning
#Testar coisas simples primeiro
#Mais lento, Compressibilidade, em eral não apresentam melhores resultados do que árvores de decisão

base_risco_cred = Orange.data.Table('/content/drive/MyDrive/Bases de dados-20230224T225515Z-001/Bases de dados/risco_credito_regras.csv')

base_risco_cred.domain

cn2 = Orange.classification.rules.CN2Learner()

regras_risco_crédito = cn2(base_risco_cred)

for regras in regras_risco_crédito.rule_list:
  print(regras)

previsoes = regras_risco_crédito([['boa','alta','nenhuma','acima_35'],['ruim','alta','adequada','0_15']])
previsoes

base_risco_cred.domain.class_var

for i in previsoes:
  print(base_risco_cred.domain.class_var.values[i])

base_credito =Orange.data.Table('/content/drive/MyDrive/Bases de dados-20230224T225515Z-001/Bases de dados/credit_data_regras.csv')

base_credito.domain

base_dividida = Orange.evaluation.testing.sample(base_credito, n = 0.25)

base_train =base_dividida[1]
base_test = base_dividida[0]

len(base_train)

cn2 = Orange.classification.rules.CN2Learner()
regras_credit = cn2(base_train)

for regras in regras_credit.rule_list:
  print(regras)

previsoes = Orange.evaluation.testing.TestOnTestData(base_train,base_test, [lambda testdata: regras_credit])

Orange.evaluation.CA(previsoes)

base_census = Orange.data.Table('/content/drive/MyDrive/Bases de dados-20230224T225515Z-001/Bases de dados/census_regras.csv')

# base_dividida_census = Orange.evaluation.testing.sample(base_census, n = 0.25)
# base_train_census =base_dividida_census[1]
# base_test_census = base_dividida_census[0]
# len(base_train_census)
# cn2 = Orange.classification.rules.CN2Learner()
# regras_census = cn2(base_train_census)
# for regras in regras_census.rule_list:
#   print(regras)
# previsoes = Orange.evaluation.testing.TestOnTestData(base_train_census,base_test_census, [lambda testdata: regras_census])
# Orange.evaluation.CA(previsoes)



#Classificador Majority learner Ferramenta para termos uma base de qual algoritmo utilizar


majority = Orange.classification.MajorityLearner() #Classifica o registro com base nos maiores atributos da base

previsoes = Orange.evaluation.testing.TestOnTestData(base_credito,base_credito, [majority])

Orange.evaluation.CA(previsoes)

for registro in base_credito:
  print(registro.get_class())

from collections import Counter
Counter(str(registro.get_class())for registro in base_credito)

majority_census = Orange.classification.MajorityLearner()
previsoes = Orange.evaluation.testing.TestOnTestData(base_census,base_census,[majority_census])
Orange.evaluation.CA(previsoes)

from collections import Counter
Counter(str(registro.get_class())for registro in base_census)

